{
 "cells": [
  {
   "cell_type": "markdown",
   "metadata": {},
   "source": [
    "# Challenge 3\n",
    "\n",
    "In this challenge we will work on the `Orders.csv` data set in the previous [Subsetting and Descriptive Stats lab](../../lab-subsetting-and-descriptive-stats/your-code/main.ipynb). In your work you will apply the thinking process and workflow we showed you in Challenge 2.\n",
    "\n",
    "You are serving as a Business Intelligence Analyst at the headquarter of an international fashion goods chain store. Your boss today asked you to do two things for her:\n",
    "\n",
    "**First, identify two groups of customers from the data set.** The first group is **VIP Customers** whose **aggregated expenses** at your global chain stores are **above the 95th percentile** (aka. 0.95 quantile). The second group is **Preferred Customers** whose **aggregated expenses** are **between the 75th and 95th percentile**.\n",
    "\n",
    "**Second, identify which country has the most of your VIP customers, and which country has the most of your VIP+Preferred Customers combined.**"
   ]
  },
  {
   "cell_type": "markdown",
   "metadata": {},
   "source": [
    "# Q1: How to identify VIP & Preferred Customers?\n",
    "\n",
    "We start by importing all the required libraries:"
   ]
  },
  {
   "cell_type": "code",
   "execution_count": 1,
   "metadata": {},
   "outputs": [],
   "source": [
    "# import required libraries\n",
    "import numpy as np\n",
    "import pandas as pd"
   ]
  },
  {
   "cell_type": "markdown",
   "metadata": {},
   "source": [
    "Next, import `Orders.csv` from the \"subsetting\" lab folder into a dataframe variable called `orders`. Print the head of `orders` to overview the data:"
   ]
  },
  {
   "cell_type": "code",
   "execution_count": 2,
   "metadata": {},
   "outputs": [
    {
     "output_type": "execute_result",
     "data": {
      "text/plain": [
       "   Unnamed: 0  InvoiceNo StockCode  year  month  day  hour  \\\n",
       "0           0     536365    85123A  2010     12    3     8   \n",
       "1           1     536365     71053  2010     12    3     8   \n",
       "2           2     536365    84406B  2010     12    3     8   \n",
       "3           3     536365    84029G  2010     12    3     8   \n",
       "4           4     536365    84029E  2010     12    3     8   \n",
       "\n",
       "                           Description  Quantity          InvoiceDate  \\\n",
       "0   white hanging heart t-light holder         6  2010-12-01 08:26:00   \n",
       "1                  white metal lantern         6  2010-12-01 08:26:00   \n",
       "2       cream cupid hearts coat hanger         8  2010-12-01 08:26:00   \n",
       "3  knitted union flag hot water bottle         6  2010-12-01 08:26:00   \n",
       "4       red woolly hottie white heart.         6  2010-12-01 08:26:00   \n",
       "\n",
       "   UnitPrice  CustomerID         Country  amount_spent  \n",
       "0       2.55       17850  United Kingdom         15.30  \n",
       "1       3.39       17850  United Kingdom         20.34  \n",
       "2       2.75       17850  United Kingdom         22.00  \n",
       "3       3.39       17850  United Kingdom         20.34  \n",
       "4       3.39       17850  United Kingdom         20.34  "
      ],
      "text/html": "<div>\n<style scoped>\n    .dataframe tbody tr th:only-of-type {\n        vertical-align: middle;\n    }\n\n    .dataframe tbody tr th {\n        vertical-align: top;\n    }\n\n    .dataframe thead th {\n        text-align: right;\n    }\n</style>\n<table border=\"1\" class=\"dataframe\">\n  <thead>\n    <tr style=\"text-align: right;\">\n      <th></th>\n      <th>Unnamed: 0</th>\n      <th>InvoiceNo</th>\n      <th>StockCode</th>\n      <th>year</th>\n      <th>month</th>\n      <th>day</th>\n      <th>hour</th>\n      <th>Description</th>\n      <th>Quantity</th>\n      <th>InvoiceDate</th>\n      <th>UnitPrice</th>\n      <th>CustomerID</th>\n      <th>Country</th>\n      <th>amount_spent</th>\n    </tr>\n  </thead>\n  <tbody>\n    <tr>\n      <th>0</th>\n      <td>0</td>\n      <td>536365</td>\n      <td>85123A</td>\n      <td>2010</td>\n      <td>12</td>\n      <td>3</td>\n      <td>8</td>\n      <td>white hanging heart t-light holder</td>\n      <td>6</td>\n      <td>2010-12-01 08:26:00</td>\n      <td>2.55</td>\n      <td>17850</td>\n      <td>United Kingdom</td>\n      <td>15.30</td>\n    </tr>\n    <tr>\n      <th>1</th>\n      <td>1</td>\n      <td>536365</td>\n      <td>71053</td>\n      <td>2010</td>\n      <td>12</td>\n      <td>3</td>\n      <td>8</td>\n      <td>white metal lantern</td>\n      <td>6</td>\n      <td>2010-12-01 08:26:00</td>\n      <td>3.39</td>\n      <td>17850</td>\n      <td>United Kingdom</td>\n      <td>20.34</td>\n    </tr>\n    <tr>\n      <th>2</th>\n      <td>2</td>\n      <td>536365</td>\n      <td>84406B</td>\n      <td>2010</td>\n      <td>12</td>\n      <td>3</td>\n      <td>8</td>\n      <td>cream cupid hearts coat hanger</td>\n      <td>8</td>\n      <td>2010-12-01 08:26:00</td>\n      <td>2.75</td>\n      <td>17850</td>\n      <td>United Kingdom</td>\n      <td>22.00</td>\n    </tr>\n    <tr>\n      <th>3</th>\n      <td>3</td>\n      <td>536365</td>\n      <td>84029G</td>\n      <td>2010</td>\n      <td>12</td>\n      <td>3</td>\n      <td>8</td>\n      <td>knitted union flag hot water bottle</td>\n      <td>6</td>\n      <td>2010-12-01 08:26:00</td>\n      <td>3.39</td>\n      <td>17850</td>\n      <td>United Kingdom</td>\n      <td>20.34</td>\n    </tr>\n    <tr>\n      <th>4</th>\n      <td>4</td>\n      <td>536365</td>\n      <td>84029E</td>\n      <td>2010</td>\n      <td>12</td>\n      <td>3</td>\n      <td>8</td>\n      <td>red woolly hottie white heart.</td>\n      <td>6</td>\n      <td>2010-12-01 08:26:00</td>\n      <td>3.39</td>\n      <td>17850</td>\n      <td>United Kingdom</td>\n      <td>20.34</td>\n    </tr>\n  </tbody>\n</table>\n</div>"
     },
     "metadata": {},
     "execution_count": 2
    }
   ],
   "source": [
    "# enter your code here\n",
    "orders = pd.read_csv('./Orders.csv')\n",
    "orders.head()"
   ]
  },
  {
   "cell_type": "markdown",
   "metadata": {},
   "source": [
    "---\n",
    "\n",
    "\"Identify VIP and Preferred Customers\" is the non-technical goal of your boss. You need to translate that goal into technical languages that data analysts use:\n",
    "\n",
    "## How to label customers whose aggregated `amount_spent` is in a given quantile range?\n"
   ]
  },
  {
   "cell_type": "markdown",
   "metadata": {},
   "source": [
    "We break down the main problem into several sub problems:\n",
    "\n",
    "#### Sub Problem 1: How to aggregate the  `amount_spent` for unique customers?\n",
    "\n",
    "#### Sub Problem 2: How to select customers whose aggregated `amount_spent` is in a given quantile range?\n",
    "\n",
    "#### Sub Problem 3: How to label selected customers as \"VIP\" or \"Preferred\"?\n",
    "\n",
    "*Note: If you want to break down the main problem in a different way, please feel free to revise the sub problems above.*\n",
    "\n",
    "Now in the workspace below, tackle each of the sub problems using the iterative problem solving workflow. Insert cells as necessary to write your codes and explain your steps."
   ]
  },
  {
   "cell_type": "code",
   "execution_count": 3,
   "metadata": {},
   "outputs": [],
   "source": [
    "orders.set_index('CustomerID', inplace=True)"
   ]
  },
  {
   "cell_type": "code",
   "execution_count": 4,
   "metadata": {},
   "outputs": [
    {
     "output_type": "execute_result",
     "data": {
      "text/plain": [
       "            Unnamed: 0  InvoiceNo StockCode  year  month  day  hour  \\\n",
       "CustomerID                                                            \n",
       "17850                0     536365    85123A  2010     12    3     8   \n",
       "17850                1     536365     71053  2010     12    3     8   \n",
       "17850                2     536365    84406B  2010     12    3     8   \n",
       "17850                3     536365    84029G  2010     12    3     8   \n",
       "17850                4     536365    84029E  2010     12    3     8   \n",
       "17850                5     536365     22752  2010     12    3     8   \n",
       "17850                6     536365     21730  2010     12    3     8   \n",
       "17850                7     536366     22633  2010     12    3     8   \n",
       "17850                8     536366     22632  2010     12    3     8   \n",
       "13047                9     536367     84879  2010     12    3     8   \n",
       "\n",
       "                                    Description  Quantity  \\\n",
       "CustomerID                                                  \n",
       "17850        white hanging heart t-light holder         6   \n",
       "17850                       white metal lantern         6   \n",
       "17850            cream cupid hearts coat hanger         8   \n",
       "17850       knitted union flag hot water bottle         6   \n",
       "17850            red woolly hottie white heart.         6   \n",
       "17850              set 7 babushka nesting boxes         2   \n",
       "17850         glass star frosted t-light holder         6   \n",
       "17850                    hand warmer union jack         6   \n",
       "17850                 hand warmer red polka dot         6   \n",
       "13047             assorted colour bird ornament        32   \n",
       "\n",
       "                    InvoiceDate  UnitPrice         Country  amount_spent  \\\n",
       "CustomerID                                                                 \n",
       "17850       2010-12-01 08:26:00       2.55  United Kingdom         15.30   \n",
       "17850       2010-12-01 08:26:00       3.39  United Kingdom         20.34   \n",
       "17850       2010-12-01 08:26:00       2.75  United Kingdom         22.00   \n",
       "17850       2010-12-01 08:26:00       3.39  United Kingdom         20.34   \n",
       "17850       2010-12-01 08:26:00       3.39  United Kingdom         20.34   \n",
       "17850       2010-12-01 08:26:00       7.65  United Kingdom         15.30   \n",
       "17850       2010-12-01 08:26:00       4.25  United Kingdom         25.50   \n",
       "17850       2010-12-01 08:28:00       1.85  United Kingdom         11.10   \n",
       "17850       2010-12-01 08:28:00       1.85  United Kingdom         11.10   \n",
       "13047       2010-12-01 08:34:00       1.69  United Kingdom         54.08   \n",
       "\n",
       "            agg_amount_spent  \n",
       "CustomerID                    \n",
       "17850                5391.21  \n",
       "17850                5391.21  \n",
       "17850                5391.21  \n",
       "17850                5391.21  \n",
       "17850                5391.21  \n",
       "17850                5391.21  \n",
       "17850                5391.21  \n",
       "17850                5391.21  \n",
       "17850                5391.21  \n",
       "13047                3237.54  "
      ],
      "text/html": "<div>\n<style scoped>\n    .dataframe tbody tr th:only-of-type {\n        vertical-align: middle;\n    }\n\n    .dataframe tbody tr th {\n        vertical-align: top;\n    }\n\n    .dataframe thead th {\n        text-align: right;\n    }\n</style>\n<table border=\"1\" class=\"dataframe\">\n  <thead>\n    <tr style=\"text-align: right;\">\n      <th></th>\n      <th>Unnamed: 0</th>\n      <th>InvoiceNo</th>\n      <th>StockCode</th>\n      <th>year</th>\n      <th>month</th>\n      <th>day</th>\n      <th>hour</th>\n      <th>Description</th>\n      <th>Quantity</th>\n      <th>InvoiceDate</th>\n      <th>UnitPrice</th>\n      <th>Country</th>\n      <th>amount_spent</th>\n      <th>agg_amount_spent</th>\n    </tr>\n    <tr>\n      <th>CustomerID</th>\n      <th></th>\n      <th></th>\n      <th></th>\n      <th></th>\n      <th></th>\n      <th></th>\n      <th></th>\n      <th></th>\n      <th></th>\n      <th></th>\n      <th></th>\n      <th></th>\n      <th></th>\n      <th></th>\n    </tr>\n  </thead>\n  <tbody>\n    <tr>\n      <th>17850</th>\n      <td>0</td>\n      <td>536365</td>\n      <td>85123A</td>\n      <td>2010</td>\n      <td>12</td>\n      <td>3</td>\n      <td>8</td>\n      <td>white hanging heart t-light holder</td>\n      <td>6</td>\n      <td>2010-12-01 08:26:00</td>\n      <td>2.55</td>\n      <td>United Kingdom</td>\n      <td>15.30</td>\n      <td>5391.21</td>\n    </tr>\n    <tr>\n      <th>17850</th>\n      <td>1</td>\n      <td>536365</td>\n      <td>71053</td>\n      <td>2010</td>\n      <td>12</td>\n      <td>3</td>\n      <td>8</td>\n      <td>white metal lantern</td>\n      <td>6</td>\n      <td>2010-12-01 08:26:00</td>\n      <td>3.39</td>\n      <td>United Kingdom</td>\n      <td>20.34</td>\n      <td>5391.21</td>\n    </tr>\n    <tr>\n      <th>17850</th>\n      <td>2</td>\n      <td>536365</td>\n      <td>84406B</td>\n      <td>2010</td>\n      <td>12</td>\n      <td>3</td>\n      <td>8</td>\n      <td>cream cupid hearts coat hanger</td>\n      <td>8</td>\n      <td>2010-12-01 08:26:00</td>\n      <td>2.75</td>\n      <td>United Kingdom</td>\n      <td>22.00</td>\n      <td>5391.21</td>\n    </tr>\n    <tr>\n      <th>17850</th>\n      <td>3</td>\n      <td>536365</td>\n      <td>84029G</td>\n      <td>2010</td>\n      <td>12</td>\n      <td>3</td>\n      <td>8</td>\n      <td>knitted union flag hot water bottle</td>\n      <td>6</td>\n      <td>2010-12-01 08:26:00</td>\n      <td>3.39</td>\n      <td>United Kingdom</td>\n      <td>20.34</td>\n      <td>5391.21</td>\n    </tr>\n    <tr>\n      <th>17850</th>\n      <td>4</td>\n      <td>536365</td>\n      <td>84029E</td>\n      <td>2010</td>\n      <td>12</td>\n      <td>3</td>\n      <td>8</td>\n      <td>red woolly hottie white heart.</td>\n      <td>6</td>\n      <td>2010-12-01 08:26:00</td>\n      <td>3.39</td>\n      <td>United Kingdom</td>\n      <td>20.34</td>\n      <td>5391.21</td>\n    </tr>\n    <tr>\n      <th>17850</th>\n      <td>5</td>\n      <td>536365</td>\n      <td>22752</td>\n      <td>2010</td>\n      <td>12</td>\n      <td>3</td>\n      <td>8</td>\n      <td>set 7 babushka nesting boxes</td>\n      <td>2</td>\n      <td>2010-12-01 08:26:00</td>\n      <td>7.65</td>\n      <td>United Kingdom</td>\n      <td>15.30</td>\n      <td>5391.21</td>\n    </tr>\n    <tr>\n      <th>17850</th>\n      <td>6</td>\n      <td>536365</td>\n      <td>21730</td>\n      <td>2010</td>\n      <td>12</td>\n      <td>3</td>\n      <td>8</td>\n      <td>glass star frosted t-light holder</td>\n      <td>6</td>\n      <td>2010-12-01 08:26:00</td>\n      <td>4.25</td>\n      <td>United Kingdom</td>\n      <td>25.50</td>\n      <td>5391.21</td>\n    </tr>\n    <tr>\n      <th>17850</th>\n      <td>7</td>\n      <td>536366</td>\n      <td>22633</td>\n      <td>2010</td>\n      <td>12</td>\n      <td>3</td>\n      <td>8</td>\n      <td>hand warmer union jack</td>\n      <td>6</td>\n      <td>2010-12-01 08:28:00</td>\n      <td>1.85</td>\n      <td>United Kingdom</td>\n      <td>11.10</td>\n      <td>5391.21</td>\n    </tr>\n    <tr>\n      <th>17850</th>\n      <td>8</td>\n      <td>536366</td>\n      <td>22632</td>\n      <td>2010</td>\n      <td>12</td>\n      <td>3</td>\n      <td>8</td>\n      <td>hand warmer red polka dot</td>\n      <td>6</td>\n      <td>2010-12-01 08:28:00</td>\n      <td>1.85</td>\n      <td>United Kingdom</td>\n      <td>11.10</td>\n      <td>5391.21</td>\n    </tr>\n    <tr>\n      <th>13047</th>\n      <td>9</td>\n      <td>536367</td>\n      <td>84879</td>\n      <td>2010</td>\n      <td>12</td>\n      <td>3</td>\n      <td>8</td>\n      <td>assorted colour bird ornament</td>\n      <td>32</td>\n      <td>2010-12-01 08:34:00</td>\n      <td>1.69</td>\n      <td>United Kingdom</td>\n      <td>54.08</td>\n      <td>3237.54</td>\n    </tr>\n  </tbody>\n</table>\n</div>"
     },
     "metadata": {},
     "execution_count": 4
    }
   ],
   "source": [
    "# Sub Problem 1: How to aggregate the amount_spent for unique customers?\n",
    "orders['agg_amount_spent'] = orders.groupby('CustomerID').agg({'amount_spent': np.sum})\n",
    "orders.head(10)"
   ]
  },
  {
   "cell_type": "code",
   "execution_count": 5,
   "metadata": {},
   "outputs": [
    {
     "output_type": "execute_result",
     "data": {
      "text/plain": [
       "                     count          mean           std  min      25%      50%  \\\n",
       "agg_amount_spent  397924.0  11520.876426  31297.484455  0.0  1101.97  2656.13   \n",
       "\n",
       "                      75%        max  \n",
       "agg_amount_spent  6287.77  280206.02  "
      ],
      "text/html": "<div>\n<style scoped>\n    .dataframe tbody tr th:only-of-type {\n        vertical-align: middle;\n    }\n\n    .dataframe tbody tr th {\n        vertical-align: top;\n    }\n\n    .dataframe thead th {\n        text-align: right;\n    }\n</style>\n<table border=\"1\" class=\"dataframe\">\n  <thead>\n    <tr style=\"text-align: right;\">\n      <th></th>\n      <th>count</th>\n      <th>mean</th>\n      <th>std</th>\n      <th>min</th>\n      <th>25%</th>\n      <th>50%</th>\n      <th>75%</th>\n      <th>max</th>\n    </tr>\n  </thead>\n  <tbody>\n    <tr>\n      <th>agg_amount_spent</th>\n      <td>397924.0</td>\n      <td>11520.876426</td>\n      <td>31297.484455</td>\n      <td>0.0</td>\n      <td>1101.97</td>\n      <td>2656.13</td>\n      <td>6287.77</td>\n      <td>280206.02</td>\n    </tr>\n  </tbody>\n</table>\n</div>"
     },
     "metadata": {},
     "execution_count": 5
    }
   ],
   "source": [
    "# Sub Problem 2: How to select customers whose aggregated amount_spent is in a given quantile range?\n",
    "stats = orders.describe().transpose()\n",
    "drop_rows = ['Unnamed: 0', 'InvoiceNo', 'year', 'month', 'day', 'hour', 'Quantity', 'UnitPrice', 'amount_spent']\n",
    "stats.drop(drop_rows, axis=0, inplace=True)\n",
    "stats"
   ]
  },
  {
   "cell_type": "code",
   "execution_count": 6,
   "metadata": {},
   "outputs": [],
   "source": [
    "percentile_95 = float(stats['max'] * 0.95)\n",
    "percentile_75 = float(stats['75%'])"
   ]
  },
  {
   "cell_type": "code",
   "execution_count": 53,
   "metadata": {},
   "outputs": [],
   "source": [
    "# Sub Problem 3: How to label selected customers as \"VIP\" or \"Preferred\"?\n",
    "\n",
    "def add_label(x):\n",
    "    if x >= percentile_95:\n",
    "        return 'VIP'\n",
    "    elif (x >= percentile_75) and (x < percentile_95):\n",
    "        return 'Preferred'\n",
    "    else:\n",
    "        return 'Normal'\n",
    "\n",
    "orders['label'] = orders['agg_amount_spent'].apply(add_label)"
   ]
  },
  {
   "cell_type": "code",
   "execution_count": 54,
   "metadata": {},
   "outputs": [
    {
     "output_type": "execute_result",
     "data": {
      "text/plain": [
       "            Unnamed: 0  InvoiceNo StockCode  year  month  day  hour  \\\n",
       "CustomerID                                                            \n",
       "14646           434742     574059     22725  2011     11    3    14   \n",
       "14646           434703     574056     22384  2011     11    3    14   \n",
       "14646           434723     574059     20979  2011     11    3    14   \n",
       "14646           434722     574059     23507  2011     11    3    14   \n",
       "14646           434721     574059     23510  2011     11    3    14   \n",
       "\n",
       "                                 Description  Quantity          InvoiceDate  \\\n",
       "CustomerID                                                                    \n",
       "14646         alarm clock bakelike chocolate         1  2011-11-02 14:13:00   \n",
       "14646                lunch bag pink polkadot       100  2011-11-02 14:09:00   \n",
       "14646          36 pencils tube red retrospot         1  2011-11-02 14:13:00   \n",
       "14646       mini playing cards buffalo bill          1  2011-11-02 14:13:00   \n",
       "14646            mini playing cards gymkhana         1  2011-11-02 14:13:00   \n",
       "\n",
       "            UnitPrice      Country  amount_spent  agg_amount_spent label  \n",
       "CustomerID                                                                \n",
       "14646            3.75  Netherlands          3.75         280206.02   VIP  \n",
       "14646            1.45  Netherlands        145.00         280206.02   VIP  \n",
       "14646            1.25  Netherlands          1.25         280206.02   VIP  \n",
       "14646            0.42  Netherlands          0.42         280206.02   VIP  \n",
       "14646            0.42  Netherlands          0.42         280206.02   VIP  "
      ],
      "text/html": "<div>\n<style scoped>\n    .dataframe tbody tr th:only-of-type {\n        vertical-align: middle;\n    }\n\n    .dataframe tbody tr th {\n        vertical-align: top;\n    }\n\n    .dataframe thead th {\n        text-align: right;\n    }\n</style>\n<table border=\"1\" class=\"dataframe\">\n  <thead>\n    <tr style=\"text-align: right;\">\n      <th></th>\n      <th>Unnamed: 0</th>\n      <th>InvoiceNo</th>\n      <th>StockCode</th>\n      <th>year</th>\n      <th>month</th>\n      <th>day</th>\n      <th>hour</th>\n      <th>Description</th>\n      <th>Quantity</th>\n      <th>InvoiceDate</th>\n      <th>UnitPrice</th>\n      <th>Country</th>\n      <th>amount_spent</th>\n      <th>agg_amount_spent</th>\n      <th>label</th>\n    </tr>\n    <tr>\n      <th>CustomerID</th>\n      <th></th>\n      <th></th>\n      <th></th>\n      <th></th>\n      <th></th>\n      <th></th>\n      <th></th>\n      <th></th>\n      <th></th>\n      <th></th>\n      <th></th>\n      <th></th>\n      <th></th>\n      <th></th>\n      <th></th>\n    </tr>\n  </thead>\n  <tbody>\n    <tr>\n      <th>14646</th>\n      <td>434742</td>\n      <td>574059</td>\n      <td>22725</td>\n      <td>2011</td>\n      <td>11</td>\n      <td>3</td>\n      <td>14</td>\n      <td>alarm clock bakelike chocolate</td>\n      <td>1</td>\n      <td>2011-11-02 14:13:00</td>\n      <td>3.75</td>\n      <td>Netherlands</td>\n      <td>3.75</td>\n      <td>280206.02</td>\n      <td>VIP</td>\n    </tr>\n    <tr>\n      <th>14646</th>\n      <td>434703</td>\n      <td>574056</td>\n      <td>22384</td>\n      <td>2011</td>\n      <td>11</td>\n      <td>3</td>\n      <td>14</td>\n      <td>lunch bag pink polkadot</td>\n      <td>100</td>\n      <td>2011-11-02 14:09:00</td>\n      <td>1.45</td>\n      <td>Netherlands</td>\n      <td>145.00</td>\n      <td>280206.02</td>\n      <td>VIP</td>\n    </tr>\n    <tr>\n      <th>14646</th>\n      <td>434723</td>\n      <td>574059</td>\n      <td>20979</td>\n      <td>2011</td>\n      <td>11</td>\n      <td>3</td>\n      <td>14</td>\n      <td>36 pencils tube red retrospot</td>\n      <td>1</td>\n      <td>2011-11-02 14:13:00</td>\n      <td>1.25</td>\n      <td>Netherlands</td>\n      <td>1.25</td>\n      <td>280206.02</td>\n      <td>VIP</td>\n    </tr>\n    <tr>\n      <th>14646</th>\n      <td>434722</td>\n      <td>574059</td>\n      <td>23507</td>\n      <td>2011</td>\n      <td>11</td>\n      <td>3</td>\n      <td>14</td>\n      <td>mini playing cards buffalo bill</td>\n      <td>1</td>\n      <td>2011-11-02 14:13:00</td>\n      <td>0.42</td>\n      <td>Netherlands</td>\n      <td>0.42</td>\n      <td>280206.02</td>\n      <td>VIP</td>\n    </tr>\n    <tr>\n      <th>14646</th>\n      <td>434721</td>\n      <td>574059</td>\n      <td>23510</td>\n      <td>2011</td>\n      <td>11</td>\n      <td>3</td>\n      <td>14</td>\n      <td>mini playing cards gymkhana</td>\n      <td>1</td>\n      <td>2011-11-02 14:13:00</td>\n      <td>0.42</td>\n      <td>Netherlands</td>\n      <td>0.42</td>\n      <td>280206.02</td>\n      <td>VIP</td>\n    </tr>\n  </tbody>\n</table>\n</div>"
     },
     "metadata": {},
     "execution_count": 54
    }
   ],
   "source": [
    "orders.sort_values(by='agg_amount_spent', ascending=False).head()"
   ]
  },
  {
   "cell_type": "markdown",
   "metadata": {},
   "source": [
    "Now we'll leave it to you to solve Q2 & Q3, which you can leverage from your solution for Q1:\n",
    "\n",
    "# Q2: How to identify which country has the most VIP Customers?\n",
    "\n",
    "# Q3: How to identify which country has the most VIP+Preferred Customers combined?\n",
    "\n",
    "Provide your solution for Q2 below:"
   ]
  },
  {
   "cell_type": "code",
   "execution_count": 55,
   "metadata": {},
   "outputs": [
    {
     "output_type": "execute_result",
     "data": {
      "text/plain": [
       "Country               label    \n",
       "Australia             Preferred       898\n",
       "                      Normal          287\n",
       "Austria               Normal          398\n",
       "Bahrain               Normal           17\n",
       "Belgium               Normal         1977\n",
       "                      Preferred        54\n",
       "Brazil                Normal           32\n",
       "Canada                Normal          151\n",
       "Channel Islands       Normal          384\n",
       "                      Preferred       364\n",
       "Cyprus                Normal          366\n",
       "                      Preferred       248\n",
       "Czech Republic        Normal           25\n",
       "Denmark               Normal          344\n",
       "                      Preferred        36\n",
       "EIRE                  Preferred      7077\n",
       "                      Normal          161\n",
       "European Community    Normal           60\n",
       "Finland               Normal          391\n",
       "                      Preferred       294\n",
       "France                Normal         5442\n",
       "                      Preferred      2900\n",
       "Germany               Normal         5915\n",
       "                      Preferred      3127\n",
       "Greece                Normal          145\n",
       "Iceland               Normal          182\n",
       "Israel                Normal          248\n",
       "Italy                 Normal          758\n",
       "Japan                 Preferred       205\n",
       "                      Normal          116\n",
       "Lebanon               Normal           45\n",
       "Lithuania             Normal           35\n",
       "Malta                 Normal          112\n",
       "Netherlands           VIP            2080\n",
       "                      Normal          283\n",
       "Norway                Normal          652\n",
       "                      Preferred       420\n",
       "Poland                Normal          330\n",
       "Portugal              Normal          781\n",
       "                      Preferred       681\n",
       "RSA                   Normal           58\n",
       "Saudi Arabia          Normal            9\n",
       "Singapore             Preferred       222\n",
       "Spain                 Normal         1974\n",
       "                      Preferred       511\n",
       "Sweden                Normal          253\n",
       "                      Preferred       198\n",
       "Switzerland           Normal         1379\n",
       "                      Preferred       463\n",
       "USA                   Normal          179\n",
       "United Arab Emirates  Normal           68\n",
       "United Kingdom        Normal       274609\n",
       "                      Preferred     79736\n",
       "Unspecified           Normal          244\n",
       "Name: label, dtype: int64"
      ]
     },
     "metadata": {},
     "execution_count": 55
    }
   ],
   "source": [
    "# Q2: How to identify which country has the most VIP Customers?\n",
    "orders[['Country', 'label']].groupby(['Country'])['label'].value_counts()"
   ]
  },
  {
   "cell_type": "code",
   "execution_count": 68,
   "metadata": {},
   "outputs": [
    {
     "output_type": "stream",
     "name": "stdout",
     "text": [
      "The country that has the most VIP customers is Netherlands.\n"
     ]
    }
   ],
   "source": [
    "country_most_VIP = orders[orders['label'].apply(lambda x: 'VIP' in x)].groupby('Country').count().index[0]\n",
    "\n",
    "print(f'The country that has the most VIP customers is {country_most_VIP}.')"
   ]
  },
  {
   "cell_type": "code",
   "execution_count": 70,
   "metadata": {},
   "outputs": [
    {
     "output_type": "stream",
     "name": "stdout",
     "text": [
      "The country that has the most VIP and Preferred customers is Netherlands.\n"
     ]
    }
   ],
   "source": [
    "# Q3: How to identify which country has the most VIP+Preferred Customers combined?\n",
    "\n",
    "country_most_VIP_preferred = orders[orders['label'].apply(lambda x: 'Normal' not in x)].groupby('Country').count().index[0]\n",
    "\n",
    "print(f'The country that has the most VIP and Preferred customers is {country_most_VIP}.')"
   ]
  }
 ],
 "metadata": {
  "kernelspec": {
   "display_name": "Python 3",
   "language": "python",
   "name": "python3"
  },
  "language_info": {
   "codemirror_mode": {
    "name": "ipython",
    "version": 3
   },
   "file_extension": ".py",
   "mimetype": "text/x-python",
   "name": "python",
   "nbconvert_exporter": "python",
   "pygments_lexer": "ipython3",
   "version": "3.8.5-final"
  }
 },
 "nbformat": 4,
 "nbformat_minor": 2
}